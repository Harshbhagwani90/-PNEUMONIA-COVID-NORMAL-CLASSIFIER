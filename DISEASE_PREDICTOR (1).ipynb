{
  "nbformat": 4,
  "nbformat_minor": 0,
  "metadata": {
    "colab": {
      "provenance": []
    },
    "kernelspec": {
      "display_name": "Python 3",
      "name": "python3"
    },
    "language_info": {
      "name": "python"
    },
    "accelerator": "TPU"
  },
  "cells": [
    {
      "cell_type": "code",
      "metadata": {
        "id": "Ik00QeSYKdhr",
        "colab": {
          "base_uri": "https://localhost:8080/"
        },
        "outputId": "5f01f925-ff33-4859-cace-c6e540689019"
      },
      "source": [
        "!unzip '/content/archive.zip'"
      ],
      "execution_count": null,
      "outputs": [
        {
          "output_type": "stream",
          "name": "stdout",
          "text": [
            "Archive:  /content/archive.zip\n",
            "  End-of-central-directory signature not found.  Either this file is not\n",
            "  a zipfile, or it constitutes one disk of a multi-part archive.  In the\n",
            "  latter case the central directory and zipfile comment will be found on\n",
            "  the last disk(s) of this archive.\n",
            "unzip:  cannot find zipfile directory in one of /content/archive.zip or\n",
            "        /content/archive.zip.zip, and cannot find /content/archive.zip.ZIP, period.\n"
          ]
        }
      ]
    },
    {
      "cell_type": "markdown",
      "source": [
        "Data Loader"
      ],
      "metadata": {
        "id": "yhaJA4RFHQi2"
      }
    },
    {
      "cell_type": "code",
      "metadata": {
        "id": "tONRseIfUGMl"
      },
      "source": [
        "import matplotlib.pyplot as plt\n",
        "import numpy as np\n",
        "\n",
        "import torch\n",
        "import torchvision\n",
        "import torchvision.transforms as transforms"
      ],
      "execution_count": null,
      "outputs": []
    },
    {
      "cell_type": "code",
      "metadata": {
        "id": "krXJ0d5aUPuw"
      },
      "source": [
        "transform_train = transforms.Compose([\n",
        "    transforms.RandomResizedCrop(256), \n",
        "    transforms.ToTensor(),\n",
        "    transforms.Normalize((0.5,0.5,0.5), (0.5,0.5,0.5)),\n",
        "    ])\n",
        "\n",
        "transform_test = transforms.Compose([\n",
        "    transforms.RandomResizedCrop(256), \n",
        "    transforms.ToTensor(),\n",
        "    transforms.Normalize((0.5,), (0.5,)),\n",
        "    ])"
      ],
      "execution_count": null,
      "outputs": []
    },
    {
      "cell_type": "code",
      "metadata": {
        "id": "h_pMeBospMrE"
      },
      "source": [
        "trainset=torchvision.datasets.ImageFolder(root='/content/Training',transform=transform_train)"
      ],
      "execution_count": null,
      "outputs": []
    },
    {
      "cell_type": "code",
      "metadata": {
        "id": "lRGbCwxAph7k"
      },
      "source": [
        "testset=torchvision.datasets.ImageFolder(root='/content/Testing',transform=transform_test)"
      ],
      "execution_count": null,
      "outputs": []
    },
    {
      "cell_type": "code",
      "metadata": {
        "id": "WinAiPh6Uyob"
      },
      "source": [
        "batch_size = 50"
      ],
      "execution_count": null,
      "outputs": []
    },
    {
      "cell_type": "code",
      "metadata": {
        "id": "pbtBQfoTU4NZ"
      },
      "source": [
        "trainloader = torch.utils.data.DataLoader(trainset, batch_size=batch_size,shuffle=True)"
      ],
      "execution_count": null,
      "outputs": []
    },
    {
      "cell_type": "code",
      "metadata": {
        "id": "0AXvqZrPYl9Q"
      },
      "source": [
        "testloader=torch.utils.data.DataLoader(testset, batch_size=batch_size,shuffle=True)"
      ],
      "execution_count": null,
      "outputs": []
    },
    {
      "cell_type": "code",
      "metadata": {
        "id": "anjxY-qmU-o0"
      },
      "source": [
        "def imshow(img, title):\n",
        "    npimg = img.numpy() / 2 + 0.5\n",
        "    plt.figure(figsize=(batch_size, 1))\n",
        "    plt.axis('off')\n",
        "    plt.imshow(np.transpose(npimg, (1, 2, 0)))\n",
        "    plt.title(title)\n",
        "    plt.show()"
      ],
      "execution_count": null,
      "outputs": []
    },
    {
      "cell_type": "code",
      "metadata": {
        "id": "lkAHSWcgVDAg"
      },
      "source": [
        "def show_batch_images(dataloader):\n",
        "    images, labels = next(iter(dataloader))\n",
        "    img = torchvision.utils.make_grid(images)\n",
        "    imshow(img, title=[str(x.item()) for x in labels])"
      ],
      "execution_count": null,
      "outputs": []
    },
    {
      "cell_type": "code",
      "metadata": {
        "id": "K5BGaZ1h6f8L"
      },
      "source": [
        " images, labels = next(iter(trainloader))"
      ],
      "execution_count": null,
      "outputs": []
    },
    {
      "cell_type": "code",
      "metadata": {
        "id": "vAo0wwaP6yCt"
      },
      "source": [
        "print(images.shape)"
      ],
      "execution_count": null,
      "outputs": []
    },
    {
      "cell_type": "code",
      "metadata": {
        "id": "lNt_4vmFVGow"
      },
      "source": [
        "for i in range(batch_size):\n",
        "    show_batch_images(trainloader)"
      ],
      "execution_count": null,
      "outputs": []
    },
    {
      "cell_type": "markdown",
      "metadata": {
        "id": "Zq7ecxXJIZj5"
      },
      "source": [
        "Model_resnetxt"
      ]
    },
    {
      "cell_type": "code",
      "metadata": {
        "id": "rHDvKNRxCpNz"
      },
      "source": [
        "from torchvision import models"
      ],
      "execution_count": null,
      "outputs": []
    },
    {
      "cell_type": "code",
      "metadata": {
        "id": "1pVYVYQdJbOX"
      },
      "source": [
        "import torch"
      ],
      "execution_count": null,
      "outputs": []
    },
    {
      "cell_type": "code",
      "metadata": {
        "id": "TYFQ8qo7D7cq"
      },
      "source": [
        "resnetxt= models.resnext50_32x4d(pretrained=True)"
      ],
      "execution_count": null,
      "outputs": []
    },
    {
      "cell_type": "code",
      "metadata": {
        "id": "qOyWwMbeIHwL"
      },
      "source": [
        "print(resnetxt)"
      ],
      "execution_count": null,
      "outputs": []
    },
    {
      "cell_type": "code",
      "metadata": {
        "id": "U_CuH59DJS9Z"
      },
      "source": [
        "for param in resnetxt.parameters():\n",
        "    param.requires_grad = False"
      ],
      "execution_count": null,
      "outputs": []
    },
    {
      "cell_type": "code",
      "metadata": {
        "id": "FT8wHp9DJi0k"
      },
      "source": [
        "num_classes=4"
      ],
      "execution_count": null,
      "outputs": []
    },
    {
      "cell_type": "code",
      "metadata": {
        "id": "fnZgcKYhI9vt"
      },
      "source": [
        "in_features = resnetxt.fc.in_features\n",
        "resnetxt.fc = torch.nn.Linear(in_features, num_classes)"
      ],
      "execution_count": null,
      "outputs": []
    },
    {
      "cell_type": "code",
      "metadata": {
        "id": "kYTOb-4pLdek"
      },
      "source": [
        "resnetxt = resnetxt\n",
        "loss_fn = torch.nn.CrossEntropyLoss()\n",
        "opt = torch.optim.Adam(resnetxt.parameters(), lr=3e-4)"
      ],
      "execution_count": null,
      "outputs": []
    },
    {
      "cell_type": "code",
      "metadata": {
        "id": "NhGfRvQpRYyU"
      },
      "source": [
        "import copy"
      ],
      "execution_count": null,
      "outputs": []
    },
    {
      "cell_type": "code",
      "metadata": {
        "id": "bxqUwv3pQe3e"
      },
      "source": [
        "max_epochs=5"
      ],
      "execution_count": null,
      "outputs": []
    },
    {
      "cell_type": "code",
      "metadata": {
        "id": "UY9QP5qrTr6I"
      },
      "source": [
        "def evaluation(dataloader, model):\n",
        "    total, correct = 0, 0\n",
        "    for data in dataloader:\n",
        "        inputs, labels = data\n",
        "        # inputs, labels = inputs.to(device), labels.to(device)\n",
        "        outputs = model(inputs)\n",
        "        _, pred = torch.max(outputs.data, 1)\n",
        "        total += labels.size(0)\n",
        "        correct += (pred == labels).sum().item()\n",
        "    return 100 * correct / total"
      ],
      "execution_count": null,
      "outputs": []
    },
    {
      "cell_type": "code",
      "metadata": {
        "id": "8wBkeaY9T5TY"
      },
      "source": [
        "def show_images(images, labels, preds):\n",
        "    preds=preds.detach()\n",
        "    plt.figure(figsize=(20,20))\n",
        "    for i, image in enumerate(images):\n",
        "        plt.subplot(1,20,i+1, xticks=[], yticks=[])\n",
        "        image = image.numpy().transpose((1,2,0))\n",
        "        mean = np.array([0.5])\n",
        "        std = np.array([0.5])\n",
        "        image = image * std + mean\n",
        "        image = np.clip(image, 0., 1.)\n",
        "        plt.imshow(image)\n",
        "        print(classes[int(np.argmax(preds[i].numpy()))],end=' ' )\n",
        "        plt.xlabel(f'{classes[int(labels[i].numpy())]}')\n",
        "    plt.tight_layout()\n",
        "    plt.show()"
      ],
      "execution_count": null,
      "outputs": []
    },
    {
      "cell_type": "code",
      "metadata": {
        "id": "Lf1Tysu-v1Ek"
      },
      "source": [
        "classes=['GLIOMA',' MENINGIOMA','NORMAL','Pituitary']"
      ],
      "execution_count": null,
      "outputs": []
    },
    {
      "cell_type": "code",
      "metadata": {
        "id": "I5DijhbsQZE_"
      },
      "source": [
        "loss_epoch_arr = []\n",
        "min_loss = 10\n",
        "\n",
        "for epoch in range(max_epochs):\n",
        "\n",
        "    for i, data in enumerate(trainloader, 0):\n",
        "\n",
        "        inputs, labels = data\n",
        "        # inputs, labels = inputs.to(device), labels.to(device)\n",
        "\n",
        "        opt.zero_grad()\n",
        "\n",
        "        outputs = resnetxt(inputs)\n",
        "        loss = loss_fn(outputs, labels)\n",
        "        loss.backward()\n",
        "        opt.step()\n",
        "        \n",
        "        if min_loss > loss.item():\n",
        "            min_loss = loss.item()\n",
        "            best_model = copy.deepcopy(resnetxt.state_dict())\n",
        "            # print('Min loss %0.2f' % min_loss)\n",
        "        \n",
        "        if i % 100 == 0:\n",
        "            print('Iteration: %d, Loss: %0.2f' % (i,loss.item()))\n",
        "            show_images(inputs[0:5],labels[0:5],outputs[0:5])\n",
        "            \n",
        "        del inputs, labels, outputs\n",
        "        torch.cuda.empty_cache()\n",
        "        \n",
        "    loss_epoch_arr.append(loss.item())\n",
        "        \n",
        "    print('Epoch: %d/%d, Test acc: %0.2f, Train acc: %0.2f' % (\n",
        "        epoch, max_epochs, \n",
        "        evaluation(testloader, resnetxt), evaluation(trainloader, resnetxt)))\n",
        "    plt.plot(loss_epoch_arr)\n",
        "    plt.show()"
      ],
      "execution_count": null,
      "outputs": []
    },
    {
      "cell_type": "code",
      "source": [
        "plt.plot(loss_epoch_arr)\n",
        "plt.show()"
      ],
      "metadata": {
        "id": "SmHS6O7DEQP5"
      },
      "execution_count": null,
      "outputs": []
    },
    {
      "cell_type": "markdown",
      "metadata": {
        "id": "wztT_-9rS3kO"
      },
      "source": [
        "FORMAT :\n",
        "1. predicted values \n",
        "2. image\n",
        "3. real values"
      ]
    },
    {
      "cell_type": "code",
      "metadata": {
        "id": "Nt8Xj8OCRMQt"
      },
      "source": [
        "resnetxt.load_state_dict(best_model)\n",
        "print(evaluation(trainloader, resnetxt), evaluation(testloader, resnetxt))"
      ],
      "execution_count": null,
      "outputs": []
    },
    {
      "cell_type": "code",
      "metadata": {
        "id": "ot9xeiqrS9Rv"
      },
      "source": [
        "for i,data in enumerate(trainloader,0):\n",
        "    inputs,labels=data\n",
        "    outputs = resnetxt(inputs)\n",
        "    print(i)\n",
        "    show_images(inputs,labels,outputs)"
      ],
      "execution_count": null,
      "outputs": []
    },
    {
      "cell_type": "markdown",
      "metadata": {
        "id": "oaGdg4wLhgY4"
      },
      "source": [
        "Test result after training:"
      ]
    },
    {
      "cell_type": "code",
      "metadata": {
        "id": "Scek2SLniMc-"
      },
      "source": [
        "for i,data in enumerate(testloader,0):\n",
        "    inputs,labels=data\n",
        "    outputs = resnetxt(inputs)\n",
        "    if i%2==0:\n",
        "        print(i)\n",
        "        show_images(inputs,labels,outputs)"
      ],
      "execution_count": null,
      "outputs": []
    },
    {
      "cell_type": "code",
      "metadata": {
        "id": "Hm2v79uGiZMO"
      },
      "source": [
        "print('Overall accuracy on test data',evaluation(testloader, resnetxt))"
      ],
      "execution_count": null,
      "outputs": []
    }
  ]
}